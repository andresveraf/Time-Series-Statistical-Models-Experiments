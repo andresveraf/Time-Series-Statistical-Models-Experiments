{
 "cells": [
  {
   "cell_type": "code",
   "execution_count": 4,
   "metadata": {},
   "outputs": [],
   "source": [
    "import theano, theano.tensor as T, numpy as np"
   ]
  },
  {
   "cell_type": "code",
   "execution_count": 5,
   "metadata": {},
   "outputs": [],
   "source": [
    "def _outer_substract(x, y):\n",
    "    x = x.dimshuffle(0,1,'x')\n",
    "    x = T.addbroadcast(x,2)\n",
    "    return (x - y.T).T\n",
    "\n",
    "def _gaussian_kernel(x, y, beta=0.1):\n",
    "    K = _outer_substract(x,y)\n",
    "    return T.exp(-beta * K.norm(L=2, axis=1))\n",
    "\n",
    "x = T.matrix()\n",
    "z = T.matrix()\n",
    "\n",
    "gaussian_kernel = theano.function([x,z], _gaussian_kernel(x, z), allow_input_downcast=True)"
   ]
  },
  {
   "cell_type": "code",
   "execution_count": 14,
   "metadata": {},
   "outputs": [],
   "source": [
    "N = 100\n",
    "M = 200\n",
    "DIMS=10\n",
    "\n",
    "a = np.random.randn(N, DIMS)\n",
    "b = np.random.randn(M, DIMS)\n",
    "\n",
    "#%timeit gaussian_kernel(a,b)\n",
    "\n",
    "def np_outer_substract(x,y):\n",
    "    return (x[:,:,np.newaxis] - y.T).T\n",
    "\n",
    "def np_gaussian_kernel(x, y, beta=0.1):\n",
    "    K = np_outer_substract(x,y)\n",
    "    return np.exp(-beta * np.linalg.norm(K, axis=1))\n",
    "\n",
    "#%timeit np_gaussian_kernel(a, b)\n"
   ]
  },
  {
   "cell_type": "code",
   "execution_count": null,
   "metadata": {},
   "outputs": [],
   "source": []
  }
 ],
 "metadata": {
  "kernelspec": {
   "display_name": "Python 3",
   "language": "python",
   "name": "python3"
  },
  "language_info": {
   "codemirror_mode": {
    "name": "ipython",
    "version": 3
   },
   "file_extension": ".py",
   "mimetype": "text/x-python",
   "name": "python",
   "nbconvert_exporter": "python",
   "pygments_lexer": "ipython3",
   "version": "3.8.2"
  }
 },
 "nbformat": 4,
 "nbformat_minor": 4
}
