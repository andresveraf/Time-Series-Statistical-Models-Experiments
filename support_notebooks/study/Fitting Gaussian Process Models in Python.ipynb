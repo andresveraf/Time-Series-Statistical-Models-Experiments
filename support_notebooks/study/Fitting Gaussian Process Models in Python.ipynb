{
 "cells": [
  {
   "cell_type": "markdown",
   "metadata": {},
   "source": [
    "https://blog.dominodatalab.com/fitting-gaussian-process-models-python/"
   ]
  },
  {
   "cell_type": "markdown",
   "metadata": {},
   "source": [
    "# Building models with Gaussians"
   ]
  },
  {
   "cell_type": "markdown",
   "metadata": {},
   "source": [
    "What if we choose to use Gaussian distributions to model our data?\n",
    "\n",
    "$$p(x|\\pi,\\Sigma) = (2\\pi)^{-k/2}|\\Sigma|^{-1/2}\\exp{-\\frac{1}{2}(x-\\mu)'\\Sigma^{-1}(x-\\mu)}$$\n",
    "\n",
    "There would not seem to be any gain doing this, because normal dsitributions are not particularly flexible distributions in and of themselves. However, adopting a set of Gaussians (a multivariate normal vector) confers a number of advantages. First, the marginal distribution of any subset of elements from a multivariate normal distribution is also normal:\n",
    "\n",
    "$$\n",
    "\\begin{eqnarray*}\n",
    "p(x,y) & = & \\mathcal{N}\\left(\\left[\\begin{array}{c}\n",
    "\\mu_x\\\\\n",
    "\\mu_y\n",
    "\\end{array}\\right],\\left[\\begin{array}{ccc}\n",
    "\\Sigma_x & \\Sigma_{xy}\\\\\n",
    "\\Sigma_{xy}^T & \\Sigma_y\n",
    "\\end{array}\\right]\\right)\n",
    "\\end{eqnarray*}\n",
    "$$\n",
    "\n",
    "$$p(x) = \\int p(x,y) dy = \\mathcal{N}(\\mu_x, \\Sigma_x)$$"
   ]
  },
  {
   "cell_type": "code",
   "execution_count": null,
   "metadata": {},
   "outputs": [],
   "source": []
  }
 ],
 "metadata": {
  "kernelspec": {
   "display_name": "Python 3",
   "language": "python",
   "name": "python3"
  },
  "language_info": {
   "codemirror_mode": {
    "name": "ipython",
    "version": 3
   },
   "file_extension": ".py",
   "mimetype": "text/x-python",
   "name": "python",
   "nbconvert_exporter": "python",
   "pygments_lexer": "ipython3",
   "version": "3.8.2"
  }
 },
 "nbformat": 4,
 "nbformat_minor": 4
}
