{
 "cells": [
  {
   "cell_type": "markdown",
   "metadata": {},
   "source": [
    "# Multivariate Normal Distribution\n",
    "\n",
    "Recall that a random vector $X = (X1,...,X_d)$ has a multivariate normal (or Gaussian) distribution if every linear combination\n",
    "\n",
    "$$\\sum_{i=1}^d{a_iX_i}, \\quad a_i \\in \\mathbb{R}$$\n",
    "\n",
    "is normally distributed.\n",
    "\n",
    "The multivariate normal distribution has a joint probability density given by\n",
    "\n",
    "$$p(x|m,K_0) = (2\\pi)^{-d/2}|K_0|^{-1/2}\\exp{\\left(-\\frac{1}{2}(x-m)^TK_0^{-1}(x-m)\\right)}$$\n",
    "\n",
    "where $m \\in \\mathbb{R}^d$ is the mean vector and $K_0 \\in M_d{\\mathbb{R}}$ is the (symmetric, positive definite) covariance matrix."
   ]
  },
  {
   "cell_type": "code",
   "execution_count": 1,
   "metadata": {},
   "outputs": [],
   "source": [
    "import numpy as np\n",
    "import matplotlib.pyplot as plt\n",
    "import seaborn as sns; sns.set()"
   ]
  },
  {
   "cell_type": "markdown",
   "metadata": {},
   "source": [
    "# Set parameters"
   ]
  },
  {
   "cell_type": "code",
   "execution_count": 3,
   "metadata": {},
   "outputs": [],
   "source": [
    "# Define dimension\n",
    "d = 2\n",
    "\n",
    "# Set mean vector\n",
    "m = np.array([1,2]).reshape(2, 1)\n",
    "\n",
    "# Set covariance function\n",
    "K_0 = np.array([[2, 1],\n",
    "              [1, 2]])"
   ]
  },
  {
   "cell_type": "markdown",
   "metadata": {},
   "source": [
    "Let's us compute the eignvalues of $K_0$"
   ]
  },
  {
   "cell_type": "code",
   "execution_count": 4,
   "metadata": {},
   "outputs": [
    {
     "data": {
      "text/plain": [
       "array([3., 1.])"
      ]
     },
     "execution_count": 4,
     "metadata": {},
     "output_type": "execute_result"
    }
   ],
   "source": [
    "np.linalg.eigvals(K_0)"
   ]
  },
  {
   "cell_type": "markdown",
   "metadata": {},
   "source": [
    "We see that $K_0$ is indeed positive definite."
   ]
  },
  {
   "cell_type": "markdown",
   "metadata": {},
   "source": [
    "# Sampling process"
   ]
  },
  {
   "cell_type": "markdown",
   "metadata": {},
   "source": [
    "## Step 1: Compute the Cholesky Decomposition"
   ]
  },
  {
   "cell_type": "markdown",
   "metadata": {},
   "source": [
    "We want to compute the Cholesky decomposition of the covariance matrix $K_0$. That is, we want to find a lower triangular matrix $L \\in M_d(\\mathbb{R})$ such that $K_0 = LL^T$.\n",
    "\n",
    "_\"In practice it may be necessary to add a small multiple of the identity matrix I to the covariance matrix for numerical reasons. THis is because the eignvalues of the matrix $K_0$ can decay very rapidly and without this stabilization the Cholesky decomposition fails. The effect on the generated samples is to add additional independent noise of variance $\\epsilon$. From the context $\\epsilon$ can usually be chosen to have inconsequential effects on the samples, while ensuring numerical stability.\"_"
   ]
  },
  {
   "cell_type": "code",
   "execution_count": 5,
   "metadata": {},
   "outputs": [
    {
     "data": {
      "text/plain": [
       "array([[1.41424892, 0.        ],\n",
       "       [0.7070891 , 1.2247959 ]])"
      ]
     },
     "execution_count": 5,
     "metadata": {},
     "output_type": "execute_result"
    }
   ],
   "source": [
    "# Define epsilon\n",
    "epsilon = 0.0001\n",
    "\n",
    "# Add small perturbation\n",
    "K = K_0 + epsilon*np.identity(d)\n",
    "\n",
    "# Cholesky decomposition\n",
    "L = np.linalg.cholesky(K)\n",
    "L"
   ]
  },
  {
   "cell_type": "markdown",
   "metadata": {},
   "source": [
    "Let's verify the desired property:"
   ]
  },
  {
   "cell_type": "code",
   "execution_count": 6,
   "metadata": {},
   "outputs": [
    {
     "data": {
      "text/plain": [
       "array([[2.0001, 1.    ],\n",
       "       [1.    , 2.0001]])"
      ]
     },
     "execution_count": 6,
     "metadata": {},
     "output_type": "execute_result"
    }
   ],
   "source": [
    "np.dot(L, np.transpose(L))"
   ]
  },
  {
   "cell_type": "markdown",
   "metadata": {},
   "source": [
    "## Step 2: Generate Independent Samples $u \\sim N(0, I)$"
   ]
  },
  {
   "cell_type": "code",
   "execution_count": 8,
   "metadata": {},
   "outputs": [],
   "source": [
    "# Number of samples\n",
    "n = 10000\n",
    "\n",
    "u = np.random.normal(loc=0, scale=1, size=d*n).reshape(d, n)"
   ]
  },
  {
   "cell_type": "code",
   "execution_count": 13,
   "metadata": {},
   "outputs": [],
   "source": [
    "X = np.random.normal(size=(20, 1))\n",
    "y = np.random.normal(size=(1,20))"
   ]
  },
  {
   "cell_type": "code",
   "execution_count": 14,
   "metadata": {},
   "outputs": [
    {
     "data": {
      "text/plain": [
       "(20, 20)"
      ]
     },
     "execution_count": 14,
     "metadata": {},
     "output_type": "execute_result"
    }
   ],
   "source": [
    "np.dot(X, y).shape"
   ]
  },
  {
   "cell_type": "code",
   "execution_count": 15,
   "metadata": {},
   "outputs": [
    {
     "data": {
      "text/plain": [
       "array([[ 1.81930882e+00],\n",
       "       [ 1.01007447e+00],\n",
       "       [ 6.50153054e-01],\n",
       "       [ 1.44090866e+00],\n",
       "       [-7.00952244e-04],\n",
       "       [ 2.17090062e-01],\n",
       "       [ 1.79852239e-01],\n",
       "       [-1.18573790e+00],\n",
       "       [ 7.36682392e-01],\n",
       "       [ 1.21790330e+00],\n",
       "       [-1.35633942e+00],\n",
       "       [ 7.86352698e-01],\n",
       "       [ 1.29793477e+00],\n",
       "       [-1.46870230e+00],\n",
       "       [-2.25664491e+00],\n",
       "       [-2.59308535e-01],\n",
       "       [ 2.73818729e-02],\n",
       "       [ 1.71951114e+00],\n",
       "       [ 1.04882965e+00],\n",
       "       [-1.27520753e-03]])"
      ]
     },
     "execution_count": 15,
     "metadata": {},
     "output_type": "execute_result"
    }
   ],
   "source": [
    "X"
   ]
  },
  {
   "cell_type": "code",
   "execution_count": 16,
   "metadata": {},
   "outputs": [
    {
     "data": {
      "text/plain": [
       "array([[-0.13973666, -0.25653674, -2.31180254,  0.66512936, -2.41577328,\n",
       "        -1.05016128, -0.2060651 , -1.89463288, -0.99203151,  0.83642052,\n",
       "        -0.09990854, -0.10374076,  2.07595023,  1.60844712, -0.99828925,\n",
       "         1.51044254, -0.77379085, -0.45627961, -1.16042524, -0.51613431]])"
      ]
     },
     "execution_count": 16,
     "metadata": {},
     "output_type": "execute_result"
    }
   ],
   "source": [
    "y"
   ]
  },
  {
   "cell_type": "code",
   "execution_count": null,
   "metadata": {},
   "outputs": [],
   "source": []
  }
 ],
 "metadata": {
  "kernelspec": {
   "display_name": "Python 3",
   "language": "python",
   "name": "python3"
  },
  "language_info": {
   "codemirror_mode": {
    "name": "ipython",
    "version": 3
   },
   "file_extension": ".py",
   "mimetype": "text/x-python",
   "name": "python",
   "nbconvert_exporter": "python",
   "pygments_lexer": "ipython3",
   "version": "3.8.2"
  }
 },
 "nbformat": 4,
 "nbformat_minor": 4
}
