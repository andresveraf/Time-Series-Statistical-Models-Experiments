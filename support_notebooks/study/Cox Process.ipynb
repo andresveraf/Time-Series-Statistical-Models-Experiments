{
 "cells": [
  {
   "cell_type": "markdown",
   "metadata": {},
   "source": [
    "# Cox Process"
   ]
  },
  {
   "cell_type": "markdown",
   "metadata": {},
   "source": [
    "A Cox process [1] is closely related to a Poisson process [2] commonly used to model event arrivals described by a certain rate $\\lambda > 0$. A discrete random variable $X$ is Poisson distributed if the number of events or counts $k$, has the following form:\n",
    "\n",
    "\\begin{equation}\n",
    "Poiss(k; \\lambda) = Pr\\{X=k\\} = \\frac{\\lambda^{k}}{k!}\\exp(-\\lambda)\n",
    "\\end{equation}\n",
    "\n",
    "Note that the mean of the Poisson RV is equal to its rate as well as its variance: $E[X] = VAR[X] = \\lambda$. In addition, the rates are additive. If $X_i$ are iid Poisson random variables with rate $\\lambda_i$, then\n",
    "\n",
    "\\begin{equation}\n",
    "    S = \\sum_{i=i}^{n} X_i \\sim Poiss\\bigg(\\sum_{i=1}^{n} \\lambda_i \\bigg)\n",
    "\\end{equation}\n",
    "\n",
    "A Poisson process is defined as random countable subset of a space $S$ such that for any disjoint subsets $A_1,...,A_n$ of $S$, the number of points in each subset $N(A_1),...,N(A_n)$ are independent random variables that are Poisson distributed: $N(A_k) \\sim Poiss(\\mu(A_k))$, where the rate is defined by a mean measure $\\mu(A)$ often expressed in terms of the rate function $\\lambda(x): S \\rightarrow \\mathbb{R}^{+}$:\n",
    "\n",
    "\\begin{equation}\n",
    "    \\mu(A) = \\int_A \\lambda(x) dx < \\infty\n",
    "\\end{equation}\n",
    "\n",
    "If the rate function $\\lambda(x)$ is constant, we have a *homogeneous* Poisson process, where $\\mu(A) = \\lambda |A|$, and $|A|$ denotes the measure of $A$, e.g. area in $\\mathbb{R}^{2}$. If the rate function is spatially varying, then we have an *inhomogeneous* Poisson process [2].\n",
    "\n",
    "A Cox Process is a Poisson process in which the rate function is itself a stochastic process [1]. In particular, a Log Gaussian Cox Process (LGCP) models the rate function $\\lambda(x)$ as a transformation of a Gaussian Process (GP) [3] that guarantees positivity. Common transformations include exponential, sigmoid and square functions. We can summarize the Cox Process as follows:\n",
    "\n",
    "\\begin{eqnarray}\n",
    "    f(x) &\\sim& GP\\big(m(x), K(x,x^{\\prime})\\big) \\\\\n",
    "    \\lambda(x) &=& \\exp\\{f(x)\\} \\\\\n",
    "    y(A) &\\sim& Poiss\\bigg(\\int_A \\lambda(x) dx \\bigg)\n",
    "\\end{eqnarray}\n",
    "\n",
    "Let's implement the Cox Process in PyMC! We'll use the redwoods dataset which is provided as part of spatstat R package. It contains locations of California redwood trees in a square sampling region."
   ]
  },
  {
   "cell_type": "code",
   "execution_count": 1,
   "metadata": {},
   "outputs": [],
   "source": [
    "%matplotlib inline\n",
    "import numpy as np\n",
    "import pandas as pd\n",
    "\n",
    "import seaborn as sns\n",
    "import matplotlib.pyplot as plt\n",
    "\n",
    "import pymc3 as pm\n",
    "\n",
    "import theano\n",
    "import theano.tensor as tt\n",
    "\n",
    "import warnings\n",
    "warnings.filterwarnings('ignore')"
   ]
  },
  {
   "cell_type": "code",
   "execution_count": 6,
   "metadata": {},
   "outputs": [
    {
     "data": {
      "text/html": [
       "<div>\n",
       "<style scoped>\n",
       "    .dataframe tbody tr th:only-of-type {\n",
       "        vertical-align: middle;\n",
       "    }\n",
       "\n",
       "    .dataframe tbody tr th {\n",
       "        vertical-align: top;\n",
       "    }\n",
       "\n",
       "    .dataframe thead th {\n",
       "        text-align: right;\n",
       "    }\n",
       "</style>\n",
       "<table border=\"1\" class=\"dataframe\">\n",
       "  <thead>\n",
       "    <tr style=\"text-align: right;\">\n",
       "      <th></th>\n",
       "      <th>redwoodfull.x</th>\n",
       "      <th>redwoodfull.y</th>\n",
       "    </tr>\n",
       "  </thead>\n",
       "  <tbody>\n",
       "    <tr>\n",
       "      <th>0</th>\n",
       "      <td>0.931481</td>\n",
       "      <td>0.817680</td>\n",
       "    </tr>\n",
       "    <tr>\n",
       "      <th>1</th>\n",
       "      <td>0.938889</td>\n",
       "      <td>0.764273</td>\n",
       "    </tr>\n",
       "    <tr>\n",
       "      <th>2</th>\n",
       "      <td>0.935185</td>\n",
       "      <td>0.721915</td>\n",
       "    </tr>\n",
       "    <tr>\n",
       "      <th>3</th>\n",
       "      <td>0.979630</td>\n",
       "      <td>0.664825</td>\n",
       "    </tr>\n",
       "    <tr>\n",
       "      <th>4</th>\n",
       "      <td>0.787037</td>\n",
       "      <td>0.661142</td>\n",
       "    </tr>\n",
       "  </tbody>\n",
       "</table>\n",
       "</div>"
      ],
      "text/plain": [
       "   redwoodfull.x  redwoodfull.y\n",
       "0       0.931481       0.817680\n",
       "1       0.938889       0.764273\n",
       "2       0.935185       0.721915\n",
       "3       0.979630       0.664825\n",
       "4       0.787037       0.661142"
      ]
     },
     "execution_count": 6,
     "metadata": {},
     "output_type": "execute_result"
    }
   ],
   "source": [
    "train_df = pd.read_csv('/home/mach1ne/experiments_with_python/chp01/data/redwoods.csv')\n",
    "train_df.head()"
   ]
  },
  {
   "cell_type": "code",
   "execution_count": 8,
   "metadata": {},
   "outputs": [
    {
     "data": {
      "image/png": "[encoded data removed]",
      "text/plain": [
       "<Figure size 432x288 with 1 Axes>"
      ]
     },
     "metadata": {
      "needs_background": "light"
     },
     "output_type": "display_data"
    }
   ],
   "source": [
    "plt.figure()\n",
    "plt.scatter(train_df['redwoodfull.x'], train_df['redwoodfull.y'])\n",
    "plt.title('California Redwoods')\n",
    "plt.xlabel('X1')\n",
    "plt.ylabel('X2');"
   ]
  },
  {
   "cell_type": "code",
   "execution_count": 9,
   "metadata": {},
   "outputs": [],
   "source": [
    "#discretize spatial data\n",
    "D = 2 #dimension\n",
    "num_bins = 64\n",
    "hist, xedges, yedges = np.histogram2d(train_df['redwoodfull.x'].values, train_df['redwoodfull.y'].values, bins=num_bins)\n",
    "xcenters = xedges[:-1] + 0.5 * (xedges[1:] - xedges[:-1])\n",
    "ycenters = yedges[:-1] + 0.5 * (yedges[1:] - yedges[:-1])"
   ]
  },
  {
   "cell_type": "code",
   "execution_count": 25,
   "metadata": {},
   "outputs": [
    {
     "data": {
      "image/png": "[encoded data removed]",
      "text/plain": [
       "<Figure size 432x288 with 1 Axes>"
      ]
     },
     "metadata": {
      "needs_background": "light"
     },
     "output_type": "display_data"
    }
   ],
   "source": [
    "plt.figure()\n",
    "plt.imshow(hist, cmap='hot');"
   ]
  },
  {
   "cell_type": "code",
   "execution_count": 12,
   "metadata": {},
   "outputs": [],
   "source": [
    "#form input arrays\n",
    "y_data = np.zeros(num_bins * num_bins)  #observations (counts)\n",
    "x_data = np.zeros((num_bins * num_bins, 2)) #locations\n",
    "\n",
    "cnt = 0\n",
    "for i in range(num_bins):\n",
    "    for j in range(num_bins):\n",
    "        y_data[cnt] = hist[i][j]\n",
    "        x_data[cnt,:] = np.hstack((xcenters[i], ycenters[j]))\n",
    "        cnt += 1"
   ]
  },
  {
   "cell_type": "code",
   "execution_count": 29,
   "metadata": {},
   "outputs": [
    {
     "data": {
      "text/plain": [
       "(4096, 2)"
      ]
     },
     "execution_count": 29,
     "metadata": {},
     "output_type": "execute_result"
    }
   ],
   "source": [
    "x_data.shape"
   ]
  },
  {
   "cell_type": "code",
   "execution_count": 31,
   "metadata": {},
   "outputs": [
    {
     "data": {
      "text/plain": [
       "(4096,)"
      ]
     },
     "execution_count": 31,
     "metadata": {},
     "output_type": "execute_result"
    }
   ],
   "source": [
    "y_data.shape"
   ]
  },
  {
   "cell_type": "code",
   "execution_count": 32,
   "metadata": {},
   "outputs": [
    {
     "name": "stderr",
     "output_type": "stream",
     "text": [
      "INFO (theano.gof.compilelock): Waiting for existing lock by process '14314' (I am process '14876')\n",
      "INFO (theano.gof.compilelock): To manually release the lock, delete /home/mach1ne/.theano/compiledir_Linux-5.3--generic-x86_64-with-glibc2.10-x86_64-3.8.2-64/lock_dir\n"
     ]
    }
   ],
   "source": [
    "with pm.Model() as model:\n",
    "   \n",
    "    #hyper-parameter priors\n",
    "    #l = pm.Gamma('l', alpha=2, beta=2)   \n",
    "    #eta = pm.HalfCauchy('eta', beta=3)\n",
    "    #cov_func = eta**2 * pm.gp.cov.ExpQuad(D, ls=l*np.ones(D))\n",
    "\n",
    "    #Gaussian Process\n",
    "    cov_func = pm.gp.cov.ExpQuad(D, ls=0.1*np.ones(D))\n",
    "    gp = pm.gp.Latent(cov_func=cov_func)\n",
    "    f = gp.prior('f', X=x_data)\n",
    "\n",
    "    obs = pm.Poisson('obs', mu=tt.exp(f), observed=y_data)"
   ]
  },
  {
   "cell_type": "code",
   "execution_count": null,
   "metadata": {},
   "outputs": [],
   "source": [
    "with model:\n",
    "    trace = pm.sample(1000)"
   ]
  },
  {
   "cell_type": "code",
   "execution_count": null,
   "metadata": {},
   "outputs": [],
   "source": [
    "#generate plots\n",
    "plt.figure()\n",
    "pm.traceplot(trace, varnames=['f'])"
   ]
  },
  {
   "cell_type": "code",
   "execution_count": null,
   "metadata": {},
   "outputs": [],
   "source": [
    "ftrace = np.mean(trace['f'][500::2,:], axis=0)\n",
    "ftrace = np.reshape(ftrace, (num_bins, num_bins))\n",
    "latent_rate = np.exp(ftrace)"
   ]
  },
  {
   "cell_type": "code",
   "execution_count": null,
   "metadata": {},
   "outputs": [],
   "source": [
    "plt.figure()\n",
    "plt.imshow(latent_rate)"
   ]
  },
  {
   "cell_type": "markdown",
   "metadata": {},
   "source": [
    "\n",
    "\n",
    "We can see that the heatmap of the latent rate function above matches the histogram plot, i.e. we can see higher concentration of trees along the main diagonal as well as patches above and below the diagonal. The latent rate function can give insight into land features that cause high tree growth.\n"
   ]
  },
  {
   "cell_type": "code",
   "execution_count": null,
   "metadata": {},
   "outputs": [],
   "source": []
  }
 ],
 "metadata": {
  "kernelspec": {
   "display_name": "Python 3",
   "language": "python",
   "name": "python3"
  },
  "language_info": {
   "codemirror_mode": {
    "name": "ipython",
    "version": 3
   },
   "file_extension": ".py",
   "mimetype": "text/x-python",
   "name": "python",
   "nbconvert_exporter": "python",
   "pygments_lexer": "ipython3",
   "version": "3.8.2"
  }
 },
 "nbformat": 4,
 "nbformat_minor": 4
}
